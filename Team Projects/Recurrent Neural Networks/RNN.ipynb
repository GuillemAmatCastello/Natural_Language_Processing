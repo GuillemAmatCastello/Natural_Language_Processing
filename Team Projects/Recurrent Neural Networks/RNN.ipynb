{
 "cells": [
  {
   "cell_type": "markdown",
   "metadata": {},
   "source": [
    "## Recurrent Neural Networks"
   ]
  },
  {
   "cell_type": "markdown",
   "metadata": {},
   "source": [
    "**Students:** Guillem Amat (ga98), Sebastián Soriano Pérez (ss1072)"
   ]
  },
  {
   "cell_type": "markdown",
   "metadata": {},
   "source": [
    "<br>"
   ]
  },
  {
   "cell_type": "markdown",
   "metadata": {},
   "source": [
    "**Importing Packages**"
   ]
  },
  {
   "cell_type": "code",
   "execution_count": 187,
   "metadata": {},
   "outputs": [],
   "source": [
    "#Regular Packages\n",
    "import numpy as np\n",
    "import pandas as pd\n",
    "import pdb\n",
    "import os\n",
    "from tqdm.notebook import tqdm"
   ]
  },
  {
   "cell_type": "code",
   "execution_count": 132,
   "metadata": {},
   "outputs": [],
   "source": [
    "#Torch Packages\n",
    "from torch.utils.data import TensorDataset, DataLoader\n",
    "import torch.nn.functional as F\n",
    "import torch.nn as nn\n",
    "import torch"
   ]
  },
  {
   "cell_type": "markdown",
   "metadata": {},
   "source": [
    "<br>"
   ]
  },
  {
   "cell_type": "markdown",
   "metadata": {},
   "source": [
    "### Q1: Recurrent Neural Network"
   ]
  },
  {
   "cell_type": "code",
   "execution_count": 134,
   "metadata": {},
   "outputs": [],
   "source": [
    "from gen_gbu import gen_gbu"
   ]
  },
  {
   "cell_type": "code",
   "execution_count": 135,
   "metadata": {},
   "outputs": [],
   "source": [
    "words, y = gen_gbu()"
   ]
  },
  {
   "cell_type": "markdown",
   "metadata": {},
   "source": [
    "<br>"
   ]
  },
  {
   "cell_type": "markdown",
   "metadata": {},
   "source": [
    "**Word Embedding**"
   ]
  },
  {
   "cell_type": "code",
   "execution_count": 136,
   "metadata": {},
   "outputs": [
    {
     "data": {
      "text/plain": [
       "{'bad', 'good', 'uh'}"
      ]
     },
     "execution_count": 136,
     "metadata": {},
     "output_type": "execute_result"
    }
   ],
   "source": [
    "vocabulary = set([word for sentence in words for word in sentence])\n",
    "vocabulary"
   ]
  },
  {
   "cell_type": "code",
   "execution_count": 137,
   "metadata": {},
   "outputs": [
    {
     "data": {
      "text/plain": [
       "{'bad': [0, 1, 0], 'good': [1, 0, 0], 'uh': [0, 0, 1]}"
      ]
     },
     "execution_count": 137,
     "metadata": {},
     "output_type": "execute_result"
    }
   ],
   "source": [
    "# One-hot encoding\n",
    "word2vec = {word: [(word == 'good') * 1, (word == 'bad') * 1, (word == 'uh') * 1] \n",
    "            for i, word in enumerate(vocabulary, 1)}\n",
    "word2vec"
   ]
  },
  {
   "cell_type": "code",
   "execution_count": 138,
   "metadata": {},
   "outputs": [],
   "source": [
    "X = [[word2vec[word] for word in sentence] for sentence in words]"
   ]
  },
  {
   "cell_type": "code",
   "execution_count": 139,
   "metadata": {},
   "outputs": [
    {
     "name": "stdout",
     "output_type": "stream",
     "text": [
      "Unique words: 3\n",
      "First Word sentence: ['uh', 'uh', 'uh', 'uh', 'uh', 'uh', 'uh', 'uh', 'uh', 'good', 'uh', 'uh']\n",
      "First Int sentence: [[0, 0, 1], [0, 0, 1], [0, 0, 1], [0, 0, 1], [0, 0, 1], [0, 0, 1], [0, 0, 1], [0, 0, 1], [0, 0, 1], [1, 0, 0], [0, 0, 1], [0, 0, 1]]\n"
     ]
    }
   ],
   "source": [
    "print(f'Unique words: {len(word2vec)}')\n",
    "print(f'First Word sentence: {words[0]}')\n",
    "print(f'First Int sentence: {X[0]}')"
   ]
  },
  {
   "cell_type": "markdown",
   "metadata": {},
   "source": [
    "<br>"
   ]
  },
  {
   "cell_type": "markdown",
   "metadata": {},
   "source": [
    "**Padding**"
   ]
  },
  {
   "cell_type": "code",
   "execution_count": 140,
   "metadata": {},
   "outputs": [
    {
     "data": {
      "text/plain": [
       "19"
      ]
     },
     "execution_count": 140,
     "metadata": {},
     "output_type": "execute_result"
    }
   ],
   "source": [
    "max_ = 0\n",
    "for X_i in X:\n",
    "    max_ = len(X_i) if len(X_i) > max_ else max_\n",
    "max_"
   ]
  },
  {
   "cell_type": "code",
   "execution_count": 141,
   "metadata": {},
   "outputs": [],
   "source": [
    "# Filling each sentence in X with vectors [0, 0, 0] to have equal length\n",
    "# Loop through each sentence in X\n",
    "for i in range(len(X)):\n",
    "    zeros = 19 - len(X[i])\n",
    "    X[i] += [[0, 0, 0] for j in range(zeros)]"
   ]
  },
  {
   "cell_type": "markdown",
   "metadata": {},
   "source": [
    "<br>"
   ]
  },
  {
   "cell_type": "markdown",
   "metadata": {},
   "source": [
    "**Train-Test Split**"
   ]
  },
  {
   "cell_type": "code",
   "execution_count": 142,
   "metadata": {},
   "outputs": [],
   "source": [
    "from sklearn.model_selection import train_test_split"
   ]
  },
  {
   "cell_type": "code",
   "execution_count": 143,
   "metadata": {},
   "outputs": [],
   "source": [
    "X_train, X_test, y_train, y_test = train_test_split(X, y, test_size = 0.2)"
   ]
  },
  {
   "cell_type": "code",
   "execution_count": 144,
   "metadata": {},
   "outputs": [],
   "source": [
    "X_train, X_test = np.array(X_train), np.array(X_test)\n",
    "y_train, y_test = np.array(y_train), np.array(y_test)"
   ]
  },
  {
   "cell_type": "code",
   "execution_count": 149,
   "metadata": {},
   "outputs": [],
   "source": [
    "X_train, X_test = torch.from_numpy(X_train), torch.from_numpy(X_test)\n",
    "y_train, y_test = torch.from_numpy(y_train), torch.from_numpy(y_test)\n",
    "y_train, y_test = y_train.reshape(-1, 1), y_test.reshape(-1, 1)"
   ]
  },
  {
   "cell_type": "code",
   "execution_count": 151,
   "metadata": {},
   "outputs": [
    {
     "data": {
      "text/plain": [
       "torch.Size([800, 19, 3])"
      ]
     },
     "execution_count": 151,
     "metadata": {},
     "output_type": "execute_result"
    }
   ],
   "source": [
    "X_train.shape"
   ]
  },
  {
   "cell_type": "markdown",
   "metadata": {},
   "source": [
    "<br>"
   ]
  },
  {
   "cell_type": "markdown",
   "metadata": {},
   "source": [
    "**Recurrent Neural Network**"
   ]
  },
  {
   "cell_type": "code",
   "execution_count": 366,
   "metadata": {},
   "outputs": [],
   "source": [
    "class RNN(nn.Module):\n",
    "    def __init__(self, input_dim, output_dim):\n",
    "        super().__init__()\n",
    "                        \n",
    "        self.linear = nn.Linear(input_dim + output_dim, output_dim, False)\n",
    "        \n",
    "    def forward(self, x):\n",
    "        x = self.linear(x)\n",
    "        return x"
   ]
  },
  {
   "cell_type": "code",
   "execution_count": 367,
   "metadata": {},
   "outputs": [],
   "source": [
    "rnn = RNN(3, 1)"
   ]
  },
  {
   "cell_type": "code",
   "execution_count": 381,
   "metadata": {},
   "outputs": [],
   "source": [
    "criterion = nn.MSELoss()\n",
    "optimizer = torch.optim.SGD(rnn.parameters(), lr=0.1)"
   ]
  },
  {
   "cell_type": "code",
   "execution_count": 382,
   "metadata": {},
   "outputs": [
    {
     "data": {
      "text/plain": [
       "<bound method Module.parameters of RNN(\n",
       "  (linear): Linear(in_features=4, out_features=1, bias=False)\n",
       ")>"
      ]
     },
     "execution_count": 382,
     "metadata": {},
     "output_type": "execute_result"
    }
   ],
   "source": [
    "rnn.parameters"
   ]
  },
  {
   "cell_type": "code",
   "execution_count": 385,
   "metadata": {},
   "outputs": [
    {
     "data": {
      "text/plain": [
       "[Parameter containing:\n",
       " tensor([[0.4270, 0.4523, 0.4058, 0.2829]], requires_grad=True)]"
      ]
     },
     "execution_count": 385,
     "metadata": {},
     "output_type": "execute_result"
    }
   ],
   "source": [
    "list(rnn.parameters())"
   ]
  },
  {
   "cell_type": "code",
   "execution_count": 384,
   "metadata": {},
   "outputs": [
    {
     "name": "stdout",
     "output_type": "stream",
     "text": [
      "[Parameter containing:\n",
      "tensor([[0.4270, 0.4523, 0.4058, 0.2829]], requires_grad=True)]\n",
      "[Parameter containing:\n",
      "tensor([[0.4270, 0.4523, 0.4058, 0.2829]], requires_grad=True)]\n",
      "tensor(68.5523, grad_fn=<MseLossBackward>)\n",
      "[Parameter containing:\n",
      "tensor([[0.4270, 0.4523, 0.4058, 0.2829]], requires_grad=True)]\n",
      "[Parameter containing:\n",
      "tensor([[0.4270, 0.4523, 0.4058, 0.2829]], requires_grad=True)]\n",
      "[Parameter containing:\n",
      "tensor([[0.4270, 0.4523, 0.4058, 0.2829]], requires_grad=True)]\n",
      "[Parameter containing:\n",
      "tensor([[0.4270, 0.4523, 0.4058, 0.2829]], requires_grad=True)]\n",
      "[Parameter containing:\n",
      "tensor([[0.4270, 0.4523, 0.4058, 0.2829]], requires_grad=True)]\n",
      "[Parameter containing:\n",
      "tensor([[0.4270, 0.4523, 0.4058, 0.2829]], requires_grad=True)]\n",
      "[Parameter containing:\n",
      "tensor([[0.4270, 0.4523, 0.4058, 0.2829]], requires_grad=True)]\n",
      "[Parameter containing:\n",
      "tensor([[0.4270, 0.4523, 0.4058, 0.2829]], requires_grad=True)]\n",
      "[Parameter containing:\n",
      "tensor([[0.4270, 0.4523, 0.4058, 0.2829]], requires_grad=True)]\n",
      "[Parameter containing:\n",
      "tensor([[0.4270, 0.4523, 0.4058, 0.2829]], requires_grad=True)]\n",
      "tensor(68.5523, grad_fn=<MseLossBackward>)\n",
      "[Parameter containing:\n",
      "tensor([[0.4270, 0.4523, 0.4058, 0.2829]], requires_grad=True)]\n",
      "[Parameter containing:\n",
      "tensor([[0.4270, 0.4523, 0.4058, 0.2829]], requires_grad=True)]\n",
      "[Parameter containing:\n",
      "tensor([[0.4270, 0.4523, 0.4058, 0.2829]], requires_grad=True)]\n",
      "[Parameter containing:\n",
      "tensor([[0.4270, 0.4523, 0.4058, 0.2829]], requires_grad=True)]\n",
      "[Parameter containing:\n",
      "tensor([[0.4270, 0.4523, 0.4058, 0.2829]], requires_grad=True)]\n",
      "[Parameter containing:\n",
      "tensor([[0.4270, 0.4523, 0.4058, 0.2829]], requires_grad=True)]\n",
      "[Parameter containing:\n",
      "tensor([[0.4270, 0.4523, 0.4058, 0.2829]], requires_grad=True)]\n",
      "[Parameter containing:\n",
      "tensor([[0.4270, 0.4523, 0.4058, 0.2829]], requires_grad=True)]\n",
      "[Parameter containing:\n",
      "tensor([[0.4270, 0.4523, 0.4058, 0.2829]], requires_grad=True)]\n",
      "[Parameter containing:\n",
      "tensor([[0.4270, 0.4523, 0.4058, 0.2829]], requires_grad=True)]\n",
      "tensor(68.5523, grad_fn=<MseLossBackward>)\n",
      "[Parameter containing:\n",
      "tensor([[0.4270, 0.4523, 0.4058, 0.2829]], requires_grad=True)]\n",
      "[Parameter containing:\n",
      "tensor([[0.4270, 0.4523, 0.4058, 0.2829]], requires_grad=True)]\n",
      "[Parameter containing:\n",
      "tensor([[0.4270, 0.4523, 0.4058, 0.2829]], requires_grad=True)]\n",
      "[Parameter containing:\n",
      "tensor([[0.4270, 0.4523, 0.4058, 0.2829]], requires_grad=True)]\n",
      "[Parameter containing:\n",
      "tensor([[0.4270, 0.4523, 0.4058, 0.2829]], requires_grad=True)]\n",
      "[Parameter containing:\n",
      "tensor([[0.4270, 0.4523, 0.4058, 0.2829]], requires_grad=True)]\n",
      "[Parameter containing:\n",
      "tensor([[0.4270, 0.4523, 0.4058, 0.2829]], requires_grad=True)]\n",
      "[Parameter containing:\n",
      "tensor([[0.4270, 0.4523, 0.4058, 0.2829]], requires_grad=True)]\n",
      "[Parameter containing:\n",
      "tensor([[0.4270, 0.4523, 0.4058, 0.2829]], requires_grad=True)]\n",
      "[Parameter containing:\n",
      "tensor([[0.4270, 0.4523, 0.4058, 0.2829]], requires_grad=True)]\n",
      "tensor(68.5523, grad_fn=<MseLossBackward>)\n",
      "[Parameter containing:\n",
      "tensor([[0.4270, 0.4523, 0.4058, 0.2829]], requires_grad=True)]\n",
      "[Parameter containing:\n",
      "tensor([[0.4270, 0.4523, 0.4058, 0.2829]], requires_grad=True)]\n",
      "[Parameter containing:\n",
      "tensor([[0.4270, 0.4523, 0.4058, 0.2829]], requires_grad=True)]\n",
      "[Parameter containing:\n",
      "tensor([[0.4270, 0.4523, 0.4058, 0.2829]], requires_grad=True)]\n",
      "[Parameter containing:\n",
      "tensor([[0.4270, 0.4523, 0.4058, 0.2829]], requires_grad=True)]\n",
      "[Parameter containing:\n",
      "tensor([[0.4270, 0.4523, 0.4058, 0.2829]], requires_grad=True)]\n",
      "[Parameter containing:\n",
      "tensor([[0.4270, 0.4523, 0.4058, 0.2829]], requires_grad=True)]\n",
      "[Parameter containing:\n",
      "tensor([[0.4270, 0.4523, 0.4058, 0.2829]], requires_grad=True)]\n",
      "[Parameter containing:\n",
      "tensor([[0.4270, 0.4523, 0.4058, 0.2829]], requires_grad=True)]\n",
      "[Parameter containing:\n",
      "tensor([[0.4270, 0.4523, 0.4058, 0.2829]], requires_grad=True)]\n",
      "tensor(68.5523, grad_fn=<MseLossBackward>)\n",
      "[Parameter containing:\n",
      "tensor([[0.4270, 0.4523, 0.4058, 0.2829]], requires_grad=True)]\n",
      "[Parameter containing:\n",
      "tensor([[0.4270, 0.4523, 0.4058, 0.2829]], requires_grad=True)]\n",
      "[Parameter containing:\n",
      "tensor([[0.4270, 0.4523, 0.4058, 0.2829]], requires_grad=True)]\n",
      "[Parameter containing:\n",
      "tensor([[0.4270, 0.4523, 0.4058, 0.2829]], requires_grad=True)]\n",
      "[Parameter containing:\n",
      "tensor([[0.4270, 0.4523, 0.4058, 0.2829]], requires_grad=True)]\n",
      "[Parameter containing:\n",
      "tensor([[0.4270, 0.4523, 0.4058, 0.2829]], requires_grad=True)]\n",
      "[Parameter containing:\n",
      "tensor([[0.4270, 0.4523, 0.4058, 0.2829]], requires_grad=True)]\n",
      "[Parameter containing:\n",
      "tensor([[0.4270, 0.4523, 0.4058, 0.2829]], requires_grad=True)]\n",
      "[Parameter containing:\n",
      "tensor([[0.4270, 0.4523, 0.4058, 0.2829]], requires_grad=True)]\n",
      "[Parameter containing:\n",
      "tensor([[0.4270, 0.4523, 0.4058, 0.2829]], requires_grad=True)]\n",
      "tensor(68.5523, grad_fn=<MseLossBackward>)\n",
      "[Parameter containing:\n",
      "tensor([[0.4270, 0.4523, 0.4058, 0.2829]], requires_grad=True)]\n",
      "[Parameter containing:\n",
      "tensor([[0.4270, 0.4523, 0.4058, 0.2829]], requires_grad=True)]\n",
      "[Parameter containing:\n",
      "tensor([[0.4270, 0.4523, 0.4058, 0.2829]], requires_grad=True)]\n",
      "[Parameter containing:\n",
      "tensor([[0.4270, 0.4523, 0.4058, 0.2829]], requires_grad=True)]\n",
      "[Parameter containing:\n",
      "tensor([[0.4270, 0.4523, 0.4058, 0.2829]], requires_grad=True)]\n",
      "[Parameter containing:\n",
      "tensor([[0.4270, 0.4523, 0.4058, 0.2829]], requires_grad=True)]\n",
      "[Parameter containing:\n",
      "tensor([[0.4270, 0.4523, 0.4058, 0.2829]], requires_grad=True)]\n",
      "[Parameter containing:\n",
      "tensor([[0.4270, 0.4523, 0.4058, 0.2829]], requires_grad=True)]\n",
      "[Parameter containing:\n",
      "tensor([[0.4270, 0.4523, 0.4058, 0.2829]], requires_grad=True)]\n",
      "[Parameter containing:\n",
      "tensor([[0.4270, 0.4523, 0.4058, 0.2829]], requires_grad=True)]\n",
      "tensor(68.5523, grad_fn=<MseLossBackward>)\n",
      "[Parameter containing:\n",
      "tensor([[0.4270, 0.4523, 0.4058, 0.2829]], requires_grad=True)]\n",
      "[Parameter containing:\n",
      "tensor([[0.4270, 0.4523, 0.4058, 0.2829]], requires_grad=True)]\n",
      "[Parameter containing:\n",
      "tensor([[0.4270, 0.4523, 0.4058, 0.2829]], requires_grad=True)]\n",
      "[Parameter containing:\n",
      "tensor([[0.4270, 0.4523, 0.4058, 0.2829]], requires_grad=True)]\n",
      "[Parameter containing:\n",
      "tensor([[0.4270, 0.4523, 0.4058, 0.2829]], requires_grad=True)]\n",
      "[Parameter containing:\n",
      "tensor([[0.4270, 0.4523, 0.4058, 0.2829]], requires_grad=True)]\n",
      "[Parameter containing:\n",
      "tensor([[0.4270, 0.4523, 0.4058, 0.2829]], requires_grad=True)]\n",
      "[Parameter containing:\n",
      "tensor([[0.4270, 0.4523, 0.4058, 0.2829]], requires_grad=True)]\n",
      "[Parameter containing:\n",
      "tensor([[0.4270, 0.4523, 0.4058, 0.2829]], requires_grad=True)]\n",
      "[Parameter containing:\n",
      "tensor([[0.4270, 0.4523, 0.4058, 0.2829]], requires_grad=True)]\n",
      "tensor(68.5523, grad_fn=<MseLossBackward>)\n",
      "[Parameter containing:\n",
      "tensor([[0.4270, 0.4523, 0.4058, 0.2829]], requires_grad=True)]\n",
      "[Parameter containing:\n",
      "tensor([[0.4270, 0.4523, 0.4058, 0.2829]], requires_grad=True)]\n",
      "[Parameter containing:\n",
      "tensor([[0.4270, 0.4523, 0.4058, 0.2829]], requires_grad=True)]\n",
      "[Parameter containing:\n",
      "tensor([[0.4270, 0.4523, 0.4058, 0.2829]], requires_grad=True)]\n",
      "[Parameter containing:\n",
      "tensor([[0.4270, 0.4523, 0.4058, 0.2829]], requires_grad=True)]\n",
      "[Parameter containing:\n",
      "tensor([[0.4270, 0.4523, 0.4058, 0.2829]], requires_grad=True)]\n",
      "[Parameter containing:\n",
      "tensor([[0.4270, 0.4523, 0.4058, 0.2829]], requires_grad=True)]\n",
      "[Parameter containing:\n",
      "tensor([[0.4270, 0.4523, 0.4058, 0.2829]], requires_grad=True)]\n",
      "[Parameter containing:\n",
      "tensor([[0.4270, 0.4523, 0.4058, 0.2829]], requires_grad=True)]\n",
      "[Parameter containing:\n",
      "tensor([[0.4270, 0.4523, 0.4058, 0.2829]], requires_grad=True)]\n",
      "tensor(68.5523, grad_fn=<MseLossBackward>)\n",
      "[Parameter containing:\n",
      "tensor([[0.4270, 0.4523, 0.4058, 0.2829]], requires_grad=True)]\n",
      "[Parameter containing:\n",
      "tensor([[0.4270, 0.4523, 0.4058, 0.2829]], requires_grad=True)]\n",
      "[Parameter containing:\n",
      "tensor([[0.4270, 0.4523, 0.4058, 0.2829]], requires_grad=True)]\n",
      "[Parameter containing:\n",
      "tensor([[0.4270, 0.4523, 0.4058, 0.2829]], requires_grad=True)]\n",
      "[Parameter containing:\n",
      "tensor([[0.4270, 0.4523, 0.4058, 0.2829]], requires_grad=True)]\n",
      "[Parameter containing:\n",
      "tensor([[0.4270, 0.4523, 0.4058, 0.2829]], requires_grad=True)]\n",
      "[Parameter containing:\n",
      "tensor([[0.4270, 0.4523, 0.4058, 0.2829]], requires_grad=True)]\n",
      "[Parameter containing:\n",
      "tensor([[0.4270, 0.4523, 0.4058, 0.2829]], requires_grad=True)]\n"
     ]
    },
    {
     "name": "stdout",
     "output_type": "stream",
     "text": [
      "[Parameter containing:\n",
      "tensor([[0.4270, 0.4523, 0.4058, 0.2829]], requires_grad=True)]\n",
      "[Parameter containing:\n",
      "tensor([[0.4270, 0.4523, 0.4058, 0.2829]], requires_grad=True)]\n",
      "tensor(68.5523, grad_fn=<MseLossBackward>)\n",
      "[Parameter containing:\n",
      "tensor([[0.4270, 0.4523, 0.4058, 0.2829]], requires_grad=True)]\n",
      "[Parameter containing:\n",
      "tensor([[0.4270, 0.4523, 0.4058, 0.2829]], requires_grad=True)]\n",
      "[Parameter containing:\n",
      "tensor([[0.4270, 0.4523, 0.4058, 0.2829]], requires_grad=True)]\n",
      "[Parameter containing:\n",
      "tensor([[0.4270, 0.4523, 0.4058, 0.2829]], requires_grad=True)]\n",
      "[Parameter containing:\n",
      "tensor([[0.4270, 0.4523, 0.4058, 0.2829]], requires_grad=True)]\n",
      "[Parameter containing:\n",
      "tensor([[0.4270, 0.4523, 0.4058, 0.2829]], requires_grad=True)]\n",
      "[Parameter containing:\n",
      "tensor([[0.4270, 0.4523, 0.4058, 0.2829]], requires_grad=True)]\n",
      "[Parameter containing:\n",
      "tensor([[0.4270, 0.4523, 0.4058, 0.2829]], requires_grad=True)]\n"
     ]
    }
   ],
   "source": [
    "for epoch in range(50):\n",
    "    y_hat = []\n",
    "    for i, X_i in enumerate(X_train):\n",
    "        #Loop through each word in sentence\n",
    "        for j, x in enumerate(X_i):\n",
    "            x = x.float()\n",
    "            x_combined = torch.cat((x, torch.tensor([0], dtype=torch.float))) if j == 0 else torch.cat((x, torch.tensor([y_hat[0]], dtype=torch.float)))\n",
    "            # Propagate the network forward \n",
    "            output = float(rnn(x_combined.float()))\n",
    "            if j == 0:\n",
    "                y_hat.append(output)\n",
    "            else:\n",
    "                y_hat[i] = output\n",
    "    \n",
    "    y_hat = torch.tensor(y_hat, dtype=torch.float, requires_grad=True)\n",
    "    y_hat = y_hat.reshape(-1, 1)\n",
    "    # Get the loss and take a gradient step\n",
    "    loss = criterion(y_hat, y_train.float())\n",
    "    print(list(rnn.parameters()))\n",
    "    optimizer.zero_grad()\n",
    "    loss.backward()\n",
    "    optimizer.step()\n",
    "    print(list(rnn.parameters()))\n",
    "    # Print loss\n",
    "    if epoch % 5 == 0:\n",
    "        print(loss)\n",
    "    \n",
    "    "
   ]
  },
  {
   "cell_type": "code",
   "execution_count": 349,
   "metadata": {},
   "outputs": [
    {
     "data": {
      "text/plain": [
       "[Parameter containing:\n",
       " tensor([[-0.2346,  0.4588, -0.0806, -0.4404]], requires_grad=True)]"
      ]
     },
     "execution_count": 349,
     "metadata": {},
     "output_type": "execute_result"
    }
   ],
   "source": [
    "list(rnn.parameters())"
   ]
  },
  {
   "cell_type": "markdown",
   "metadata": {},
   "source": [
    "<br>"
   ]
  },
  {
   "cell_type": "markdown",
   "metadata": {},
   "source": [
    "### Q2: Custom Implementation"
   ]
  },
  {
   "cell_type": "code",
   "execution_count": 122,
   "metadata": {},
   "outputs": [],
   "source": [
    "W = np.array([1, -1, 0, 1])"
   ]
  },
  {
   "cell_type": "code",
   "execution_count": 123,
   "metadata": {},
   "outputs": [],
   "source": [
    "def custom_rnn(X, W):\n",
    "    y_hat = []\n",
    "    # Loop through each sentence in X\n",
    "    for i, X_i in enumerate(X):\n",
    "        #Loop through each word in sentence\n",
    "        for j, x in enumerate(X_i):\n",
    "            x_combined = np.append(x, [0]) if j == 0 else np.append(x, y_hat[i])\n",
    "            output = np.dot(x_combined, W)\n",
    "            if j == 0:\n",
    "                y_hat.append(output)\n",
    "            else:\n",
    "                y_hat[i] = output\n",
    "    return y_hat"
   ]
  },
  {
   "cell_type": "code",
   "execution_count": 124,
   "metadata": {},
   "outputs": [
    {
     "data": {
      "text/plain": [
       "True"
      ]
     },
     "execution_count": 124,
     "metadata": {},
     "output_type": "execute_result"
    }
   ],
   "source": [
    "custom_rnn(X, W) == y"
   ]
  },
  {
   "cell_type": "code",
   "execution_count": 185,
   "metadata": {},
   "outputs": [
    {
     "data": {
      "text/plain": [
       "tensor([  1,   1,  -5,   0,   0,  -7,  -7,   7, -15,   0,  19,  -8,   8,   0,\n",
       "          2, -13, -13,  -4,   6,  -1,  -7,  -3, -11,   0,   0,  -1,  -9,   0,\n",
       "         12,  -6,   0,  18, -13,  -1,   0, -10,   0,  -1,   3,  12,  -6,   0,\n",
       "          5,  -1,  -2,   2,   4,   5,  -3,  -8,  -9,  -6,   7,  17,   9,   6,\n",
       "         10,  -5,  -4,  11,  -1,  -2,   0,   0,  -2,  13,   9,   0, -17,   0,\n",
       "         -9,  -3,   0, -19,  -7,  -1,   0,   0,  -2,   4,   0, -13,   5,   2,\n",
       "          2,  -1,   1,  -2,  13,  11, -14,  16,   0,  -4,   8,   0,   9,   1,\n",
       "          3,   5,   2,   1,   1,  -6,  13,  -7, -18,   0,   0,   7,   9,  13,\n",
       "         -1,  10,   6,   5,   1,  -8, -13,   0,  10,   2,  -5,   7,  -6,  -7,\n",
       "         11,   1, -14,   3,   1,  17,   1,  -9,   9,   3,  -5,   6,   5,   3,\n",
       "         -1, -18,   9,   2,  -9,   0,   4, -11,   6,   7,   3,  -6,  -9,  10,\n",
       "         -8,   0,   4,  -5,   0, -13,  -7,  11,  -5,  -3,  10,   0,   0,   1,\n",
       "         17,  10,   2,   0,  -8,   5,  -9,   7,  -3,  10,  -2,  -8,   5,  -9,\n",
       "          6,  -9,  -3, -15, -19,  -2, -10,   7,  -1,   0,   5,   5,  -7,  15,\n",
       "         11,   0,   6,   0, -15,   3,  -3,   0, -15,   0,  -4,  10,  -1,  -2,\n",
       "         15,   8,   2,   0,   5, -13,   0,  -5,   0,  19,  16,  -8,   7,  -3,\n",
       "         15,  11,  13,  -7,   9,  -7,   0,  -2,   7,   3,   6,   3,   0,   6,\n",
       "        -10,   2,  13,   4,  -1,  12,   3,   1,   0,  -7,   3,  11,  15,  11,\n",
       "        -17,  -1,  14,   5, -14,   6,  -1,   0, -12,   0,  -1, -16, -10,   0,\n",
       "          2,  11,   2,   0, -10,  -9,  -7, -12,  -1,  -7,   0,  -8,   0,  -3,\n",
       "         -9,  -6,   5,  -4,  -5,   0,   4,   2,   0,   9,  -4,  -1,   4,  -3,\n",
       "          5, -11,   9,   1,   0,   9,   0,   0,   7,  -1,   3,  -4,   2,   0,\n",
       "          1,  15, -10, -13,   7,  16, -10,   6,  12,   6, -18,   9,  15,  -2,\n",
       "        -14, -11,  16, -10, -12,   4,  -1,  -8,  12,  -8,   0,   0,  -7,   9,\n",
       "          0,   0,  -3,   2,   0,  -2,   3,  -5,   0,  -4,   1,  16, -16,  -2,\n",
       "        -11,   7, -16,   1,   2,   3,  17,  -5,   0,  -3,  -8,   5, -13,  15,\n",
       "          0,  -5, -14, -13,  -7,  -8,   0,   6, -10,  -6,   4,   9,   6,  -2,\n",
       "         -8,  -4,  10,   0, -15,   1,   3, -10, -16,  -1,   1, -19,  -7,  -6,\n",
       "         -4, -19,   0,   8,  18, -14,  -2,  13,  17,  12,  -4,   6,  -7,   0,\n",
       "          9,  16,   3, -11,  -5,  13,   3,  -9,  12,   5,  -7, -15,  -2,   1,\n",
       "         10,  -7,   1,   2,   9,   9,   6,  -9,  -9,  -6,   9,   1,  -3,   0,\n",
       "          0, -11,   3, -13,  10,   3, -14,   0, -11,   6,  -1,  -5,  16,  -3,\n",
       "          7, -10, -11,   4,  -5,  -5,  -5,   9,  -5,   3,   0,   6,   0,   0,\n",
       "          1,  12,   0,  -7,  -5,  -9,   5,  -5,  -3,  13,   6,  12,   0, -11,\n",
       "        -13,   0,   0, -10,   2,  13,   0,  -6,  -9,   0,  -5,  -6,  11, -10,\n",
       "         11,  -2,   4,  -1, -18,  11,   1,  -7,  -1,  -6, -10,   1, -17,   0,\n",
       "          6,  -6,  -2,   0,  17,   1,  16,  -2, -14,  -8,   2,  10, -17,   1,\n",
       "        -10,   1,   0,  15,  15,  -7, -13,   0, -15,   0,   0,  11,  14, -11,\n",
       "          3,   7,   0,  -8, -10,   2,   0,   0,  -1,  12,  -6,  11,  -4,   6,\n",
       "          0,  12,   9,   0,  15,  -4,   7,   9,  13,   4, -18,   5,  -5,   1,\n",
       "          0,  -3,  17,   0,  12,   3,  17,  18,   1,  16,  -3,  -6,   0,   0,\n",
       "        -16,  -2,  -6, -16,  15,   0,  -7, -10,  -9,   5,   0,   3,  15,   0,\n",
       "          7,  -4,  -8,  17,  -7,   7,   4,  19,  -3,   2,  -7,  19,  -6,  10,\n",
       "        -16,  -6, -15,   1,   0,   0,  -6,  -8,  -8,  -3,  -8,   5,  -2,   0,\n",
       "          2,   0, -12,   0,  -9,  -1,   1,   3, -15,  12,  -5, -10,  -1,   0,\n",
       "          1,  -5,  17,  -2,   0,   0,   1,  -4,  -4,   0,  -3,   9,  14,  -4,\n",
       "          4,  -4,   6,   4,   0,   4, -18,   4,  11,  -1,   2,  -5,  10, -11,\n",
       "          7,   7,   1,   3,  -9,  -4, -18, -18,   6,   3,  11,  -9,   1,  -4,\n",
       "          7,  14,   7,   0,  -5,   0,  10,  -5,   7,  -8,   1,  -5,   0,   0,\n",
       "         -6,   0,   0,   0,   9, -15, -13,  -2, -14,   0,  -4,   7,   0,   6,\n",
       "          0,   3,   1,   4, -15,  -9,  12,  12,   0, -14,  -3,   2,  11,   0,\n",
       "         -3,   9,  -2,   5,  -3,   5, -14,  10,  11,   3,  13,  -5,   0,  13,\n",
       "         11, -16, -10,   4,   8,  12,   0, -16,   4, -17,   9,   6,  -4,  -1,\n",
       "         -1,   9,  -1,  -9,  -7, -10,  -6,  11,  -5,  -2,   0,   0,   2,  -3,\n",
       "          3,  -2, -19, -10,  -9,   0,   0,   5,   6,   0,  -2,   9,  -1,   4,\n",
       "         15,  -5,  -6,   2, -12, -10, -11,   3, -14,   6, -10,   4,   4,   1,\n",
       "          0,   9,   3,   3,  -5,  -2,   0,  -6,   8,  10,  -2,   0, -12, -10,\n",
       "         14, -14,   2,  -7,  15,  -8,   5,   0,  10,  -7,  -4,   9,  12,  -5,\n",
       "          1,   1,   5,   6,  -3,  -6,   5,   5,  -9, -12,  12,   2,  16,  11,\n",
       "        -14,   0,  12,  10, -10,  -2,   0,   3,   5,   8,  -1,  12, -13, -10,\n",
       "         -8,  -3,   8,  -3,   2,   4,  15,  12,   4,  -4,   2,  12,  -9, -16,\n",
       "         -1, -16, -17, -13,   8,   0,  -9,  -9,  -3,  -3,  -7,   0,   0,   1,\n",
       "          7,  18,   7,  10,  -4,  -1,   0, -15,  -1,  -9,   7,  -4, -14,   4,\n",
       "         12,   6, -12,   0,  -6,  -3,  -3, -15,  15,   6,   0,   8,  -1,  -3,\n",
       "         15,  14,   7,  14,  15,   3,   2,   6,  16,   1,  -1, -11,  19,  14,\n",
       "         -2,   5,  -8,  -1,   2,   4,  -4,   9,  -1,  12, -10,   9,  -4,  -4,\n",
       "          2,  -2, -11,  14,  16,   0,  17,  13, -10,  -1,   5,   1,   5,  -2,\n",
       "          8,  -9,  -4,  -3,   0,   0,  -9, -16,   0,   0,   6,   0,  -3,   0,\n",
       "         16,   4, -17,   6, -15,  -2,   0,   5,   3,   3,  -2,  13,   0,   0,\n",
       "         11,   6,   3, -14,   4,   3,  -9,   4, -12,  15,  10,  -5,   5,   0,\n",
       "         10, -12,  -3,  13,  -4, -12,  -1,   6,   1,   0,   8, -10,   0,   9,\n",
       "        -16,   6,   1,   2,   0,  -6])"
      ]
     },
     "execution_count": 185,
     "metadata": {},
     "output_type": "execute_result"
    }
   ],
   "source": [
    "torch.from_numpy(np.array(y))"
   ]
  },
  {
   "cell_type": "code",
   "execution_count": null,
   "metadata": {},
   "outputs": [],
   "source": []
  }
 ],
 "metadata": {
  "kernelspec": {
   "display_name": "Python 3",
   "language": "python",
   "name": "python3"
  }
 },
 "nbformat": 4,
 "nbformat_minor": 4
}
