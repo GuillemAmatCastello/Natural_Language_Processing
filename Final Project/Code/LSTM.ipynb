{
 "cells": [
  {
   "cell_type": "markdown",
   "metadata": {},
   "source": [
    "## Final Project: Deterministic Neural Network"
   ]
  },
  {
   "cell_type": "markdown",
   "metadata": {},
   "source": [
    "**Student:** Guillem Amat (ga98), Sebastian Soriano Perez(ss72)"
   ]
  },
  {
   "cell_type": "markdown",
   "metadata": {},
   "source": [
    "<br>"
   ]
  },
  {
   "cell_type": "markdown",
   "metadata": {},
   "source": [
    "**Import packages**"
   ]
  },
  {
   "cell_type": "code",
   "execution_count": 1,
   "metadata": {},
   "outputs": [],
   "source": [
    "#Regular Packages\n",
    "from typing import List, Dict, Tuple\n",
    "from string import punctuation\n",
    "import pandas as pd\n",
    "import numpy as np\n",
    "import tarfile\n",
    "import requests\n",
    "import pdb\n",
    "import re\n",
    "import os"
   ]
  },
  {
   "cell_type": "code",
   "execution_count": 2,
   "metadata": {},
   "outputs": [],
   "source": [
    "#Torch Packages\n",
    "import torch\n",
    "from torch.autograd import Variable\n",
    "import torch.nn as nn\n",
    "import torch.nn.functional as F"
   ]
  },
  {
   "cell_type": "code",
   "execution_count": 3,
   "metadata": {},
   "outputs": [],
   "source": [
    "import warnings\n",
    "warnings.filterwarnings('ignore')\n",
    "pd.set_option('display.max_colwidth', -1)"
   ]
  },
  {
   "cell_type": "code",
   "execution_count": 4,
   "metadata": {},
   "outputs": [],
   "source": [
    "from preprocessing import text_preprocessing, dictionary_mapping, pad"
   ]
  },
  {
   "cell_type": "markdown",
   "metadata": {},
   "source": [
    "<br>"
   ]
  },
  {
   "cell_type": "markdown",
   "metadata": {},
   "source": [
    "## STEP 5: IMDB Movie Review Dataset"
   ]
  },
  {
   "cell_type": "markdown",
   "metadata": {},
   "source": [
    "**Importing Data**"
   ]
  },
  {
   "cell_type": "code",
   "execution_count": 5,
   "metadata": {},
   "outputs": [],
   "source": [
    "train = pd.read_csv(os.path.join(os.getcwd(), 'Data', 'imdb5k_train.csv'))\n",
    "test  = pd.read_csv(os.path.join(os.getcwd(), 'Data', 'imdb5k_test.csv'))"
   ]
  },
  {
   "cell_type": "markdown",
   "metadata": {},
   "source": [
    "**Text Preprocessing**"
   ]
  },
  {
   "cell_type": "code",
   "execution_count": 6,
   "metadata": {},
   "outputs": [],
   "source": [
    "train = text_preprocessing(train, text_column='text')\n",
    "test  = text_preprocessing(test,  text_column='text')"
   ]
  },
  {
   "cell_type": "markdown",
   "metadata": {},
   "source": [
    "**Vocabulary Dictionary Mapping**"
   ]
  },
  {
   "cell_type": "code",
   "execution_count": 7,
   "metadata": {},
   "outputs": [],
   "source": [
    "word2int, word4review = dictionary_mapping(train, test)"
   ]
  },
  {
   "cell_type": "markdown",
   "metadata": {},
   "source": [
    "**Encoding Reviews & Labels**"
   ]
  },
  {
   "cell_type": "code",
   "execution_count": 8,
   "metadata": {},
   "outputs": [],
   "source": [
    "encoded_review = [[word2int[word] for word in review] for review in word4review]"
   ]
  },
  {
   "cell_type": "code",
   "execution_count": 9,
   "metadata": {},
   "outputs": [],
   "source": [
    "X_train , X_test = encoded_review[:5000], encoded_review[5000:]"
   ]
  },
  {
   "cell_type": "code",
   "execution_count": 10,
   "metadata": {},
   "outputs": [],
   "source": [
    "y_train = [1 if label == 'pos' else 0 for label in train['label'].tolist()]\n",
    "y_test  = [1 if label == 'pos' else 0 for label in test['label'].tolist()]"
   ]
  },
  {
   "cell_type": "markdown",
   "metadata": {},
   "source": [
    "**Exploratory Data Analysis**"
   ]
  },
  {
   "cell_type": "code",
   "execution_count": 11,
   "metadata": {},
   "outputs": [],
   "source": [
    "import matplotlib.pyplot as plt"
   ]
  },
  {
   "cell_type": "code",
   "execution_count": 12,
   "metadata": {},
   "outputs": [],
   "source": [
    "lengths = [len(x) for x in encoded_review]"
   ]
  },
  {
   "cell_type": "code",
   "execution_count": 13,
   "metadata": {},
   "outputs": [
    {
     "data": {
      "image/png": "[encoded data removed]",
      "text/plain": [
       "<Figure size 432x288 with 1 Axes>"
      ]
     },
     "metadata": {
      "needs_background": "light"
     },
     "output_type": "display_data"
    }
   ],
   "source": [
    "#Think of a better plot\n",
    "pd.Series(lengths).hist()\n",
    "plt.show()"
   ]
  },
  {
   "cell_type": "code",
   "execution_count": 14,
   "metadata": {},
   "outputs": [
    {
     "data": {
      "text/plain": [
       "count    10000.000000\n",
       "mean     232.957800  \n",
       "std      175.165521  \n",
       "min      10.000000   \n",
       "25%      125.000000  \n",
       "50%      174.000000  \n",
       "75%      284.000000  \n",
       "max      2459.000000 \n",
       "dtype: float64"
      ]
     },
     "execution_count": 14,
     "metadata": {},
     "output_type": "execute_result"
    }
   ],
   "source": [
    "pd.Series(lengths).describe()"
   ]
  },
  {
   "cell_type": "markdown",
   "metadata": {},
   "source": [
    "**Removing Outliers**"
   ]
  },
  {
   "cell_type": "code",
   "execution_count": 15,
   "metadata": {},
   "outputs": [],
   "source": [
    "outlier = 500\n",
    "#Remove outlier reviews: [10 words < review < 500 words]\n",
    "train_outliers = [True if len(x)<=outlier else False for x in X_train]\n",
    "test_outliers  = [True if len(x)<=outlier else False for x in X_test]"
   ]
  },
  {
   "cell_type": "code",
   "execution_count": 16,
   "metadata": {},
   "outputs": [],
   "source": [
    "#Train outlier removal\n",
    "X_train = [x for x, y in zip(X_train, train_outliers) if y == True]\n",
    "y_train = [x for x, y in zip(y_train, train_outliers) if y == True]\n",
    "\n",
    "#Test outlier removal\n",
    "X_test = [x for x, y in zip(X_test, test_outliers) if y == True]\n",
    "y_test = [x for x, y in zip(y_test, test_outliers) if y == True]"
   ]
  },
  {
   "cell_type": "markdown",
   "metadata": {},
   "source": [
    "**Padding**"
   ]
  },
  {
   "cell_type": "code",
   "execution_count": 17,
   "metadata": {},
   "outputs": [],
   "source": [
    "X_train = pad(X_train, outlier)\n",
    "X_test  = pad(X_test, outlier)"
   ]
  },
  {
   "cell_type": "markdown",
   "metadata": {},
   "source": [
    "**Dataloaders**"
   ]
  },
  {
   "cell_type": "code",
   "execution_count": 18,
   "metadata": {},
   "outputs": [],
   "source": [
    "data_train = torch.utils.data.TensorDataset(torch.from_numpy(X_train).long(), torch.from_numpy(np.array(y_train)).float())\n",
    "data_test  = torch.utils.data.TensorDataset(torch.from_numpy(X_test).long(), torch.from_numpy(np.array(y_test)).float())"
   ]
  },
  {
   "cell_type": "code",
   "execution_count": 19,
   "metadata": {},
   "outputs": [],
   "source": [
    "batch = 250\n",
    "train_loader = torch.utils.data.DataLoader(data_train, shuffle=True, batch_size=batch, drop_last=True)\n",
    "test_loader  = torch.utils.data.DataLoader(data_test, shuffle= True, batch_size=batch, drop_last=True)"
   ]
  },
  {
   "cell_type": "markdown",
   "metadata": {},
   "source": [
    "<br>"
   ]
  },
  {
   "cell_type": "markdown",
   "metadata": {},
   "source": [
    "### **LSTM**"
   ]
  },
  {
   "cell_type": "code",
   "execution_count": 23,
   "metadata": {},
   "outputs": [],
   "source": [
    "class LSTM(nn.Module):\n",
    "    def __init__(self, vocabulary, n_output, n_embedding, n_hidden, n_layers, drop=0.2):\n",
    "        super().__init__()\n",
    "        \n",
    "        self.n_output = n_output\n",
    "        self.n_layers = n_layers\n",
    "        self.n_hidden = n_hidden\n",
    "        \n",
    "        self.embedding = nn.Embedding(vocabulary, n_embedding)\n",
    "        self.lstm      = nn.LSTM(n_embedding, n_hidden, n_layers,\n",
    "                                 dropout=drop, batch_first=True)\n",
    "        \n",
    "        self.linear  = nn.Linear(n_hidden, n_output)\n",
    "        self.sigmoid = nn.Sigmoid() \n",
    "    \n",
    "    def forward(self, x, hidden):\n",
    "        #pdb.set_trace()\n",
    "        batch = x.size(0)\n",
    "        embed = self.embedding(x)\n",
    "        \n",
    "        lstm_out, hidden = self.lstm(embed, hidden)\n",
    "        lstm_out = lstm_out.contiguous().view(-1, self.n_hidden)\n",
    "        \n",
    "        output = self.linear(lstm_out)\n",
    "        output = self.sigmoid(output)\n",
    "        output = output.view(batch, -1)[:, -1]\n",
    "        \n",
    "        return output, hidden\n",
    "    \n",
    "    def init_hidden(self, batch):\n",
    "        weight = next(self.parameters()).data\n",
    "        \n",
    "        hidden = (weight.new(self.n_layers, batch, self.n_hidden).zero_(),\n",
    "                  weight.new(self.n_layers, batch, self.n_hidden).zero_())\n",
    "        \n",
    "        return hidden"
   ]
  },
  {
   "cell_type": "markdown",
   "metadata": {},
   "source": [
    "**Initializing Network**"
   ]
  },
  {
   "cell_type": "code",
   "execution_count": 32,
   "metadata": {},
   "outputs": [],
   "source": [
    "vocabulary = len(word2int) + 1"
   ]
  },
  {
   "cell_type": "code",
   "execution_count": 33,
   "metadata": {},
   "outputs": [],
   "source": [
    "lstm = LSTM(vocabulary, n_output=1, n_embedding=300, n_hidden=256, n_layers=2)\n",
    "criterion = nn.BCELoss()\n",
    "optimizer = torch.optim.Adam(lstm.parameters(), lr=0.001)"
   ]
  },
  {
   "cell_type": "markdown",
   "metadata": {},
   "source": [
    "<br>"
   ]
  },
  {
   "cell_type": "markdown",
   "metadata": {},
   "source": [
    "### **Train**"
   ]
  },
  {
   "cell_type": "code",
   "execution_count": 43,
   "metadata": {},
   "outputs": [
    {
     "name": "stdout",
     "output_type": "stream",
     "text": [
      "---------------------------------------------------\n",
      "| Epoch: 1   | Train Loss: 0.73 | Test Loss: 0.65 |\n",
      "---------------------------------------------------\n",
      "---------------------------------------------------\n",
      "| Epoch: 2   | Train Loss: 0.58 | Test Loss: 0.56 |\n",
      "---------------------------------------------------\n",
      "---------------------------------------------------\n",
      "| Epoch: 3   | Train Loss: 0.45 | Test Loss: 0.54 |\n",
      "---------------------------------------------------\n",
      "---------------------------------------------------\n",
      "| Epoch: 4   | Train Loss: 0.29 | Test Loss: 0.54 |\n",
      "---------------------------------------------------\n",
      "---------------------------------------------------\n",
      "| Epoch: 5   | Train Loss: 0.17 | Test Loss: 0.63 |\n",
      "---------------------------------------------------\n"
     ]
    }
   ],
   "source": [
    "epochs = 5\n",
    "train_loss = 0\n",
    "test_loss  = 0\n",
    "train_history  = []\n",
    "test_history   = []\n",
    "train_accuracy = []\n",
    "test_accuracy  = []\n",
    "    \n",
    "for epoch in range(epochs):\n",
    "        \n",
    "        train_loss = 0\n",
    "        test_loss  = 0\n",
    "        hidden = lstm.init_hidden(batch)\n",
    "        \n",
    "        lstm.train()\n",
    "        for _, data in enumerate(train_loader):\n",
    "            \n",
    "            optimizer.zero_grad()\n",
    "            \n",
    "            X_train, y_train = data\n",
    "            X_train, y_train = Variable(torch.squeeze(X_train)), Variable(torch.squeeze(y_train))\n",
    "            \n",
    "            #Forward pass\n",
    "            hidden = tuple([each.data for each in hidden])\n",
    "            y_hat, hidden = lstm(X_train, hidden)\n",
    "            \n",
    "            #Calculating loss and backpropagating\n",
    "            loss  = criterion(y_hat, y_train)\n",
    "            loss.backward()\n",
    "            \n",
    "            #Clipping Gradients and taking a step\n",
    "            nn.utils.clip_grad_norm_(lstm.parameters(), 5)\n",
    "            optimizer.step()\n",
    "            \n",
    "            #Storing loss results\n",
    "            train_loss += loss.item() \n",
    "            train_history.append(loss.item())\n",
    "            \n",
    "            #Calculating Accuracy\n",
    "            predictions = torch.round(y_hat.squeeze())\n",
    "            num_correct = predictions.eq(y_train.float().view_as(predictions))\n",
    "            correct     = np.squeeze(num_correct.numpy())\n",
    "            accuracy    = np.sum(correct)/batch\n",
    "            train_accuracy.append(accuracy)\n",
    "            \n",
    "        hidden = lstm.init_hidden(batch)\n",
    "        \n",
    "        #print('test')\n",
    "        lstm.eval()\n",
    "        for _, data in enumerate(test_loader):\n",
    "            \n",
    "            X_test, y_test = data\n",
    "            X_test, y_test = torch.squeeze(X_test), torch.squeeze(y_test)\n",
    "            \n",
    "            hidden = tuple([each.data for each in hidden])\n",
    "            y_hat, hidden = lstm(X_test, hidden)\n",
    "            \n",
    "            #Checking Loss\n",
    "            loss = criterion(y_hat, y_test)\n",
    "            test_loss += loss.item()\n",
    "            test_history.append(loss.item())\n",
    "            \n",
    "            #Calculating Accuracy\n",
    "            predictions = torch.round(y_hat.squeeze())\n",
    "            num_correct = predictions.eq(y_test.float().view_as(predictions))\n",
    "            correct     = np.squeeze(num_correct.numpy())\n",
    "            accuracy    = np.sum(correct)/batch\n",
    "            test_accuracy.append(accuracy)\n",
    "            \n",
    "        \n",
    "        train_loss = str(train_loss*batch/len(train_loader.dataset))[:4]\n",
    "        test_loss  = str(test_loss*batch/len(test_loader.dataset))[:4]\n",
    "        \n",
    "        \n",
    "        string = f'''| Epoch: {epoch + 1}   | Train Loss: {train_loss} | Test Loss: {str(test_loss)[:4]} |'''\n",
    "        print('-'*len(string)); print(string); print('-'*len(string))"
   ]
  },
  {
   "cell_type": "code",
   "execution_count": 60,
   "metadata": {},
   "outputs": [],
   "source": [
    "PATH = os.path.join(os.getcwd(), 'OneDrive', 'Desktop', 'Final Project', 'Models', 'Sentiment_LSTM')\n",
    "torch.save(lstm, PATH)"
   ]
  },
  {
   "cell_type": "markdown",
   "metadata": {},
   "source": [
    "<br>"
   ]
  },
  {
   "cell_type": "markdown",
   "metadata": {},
   "source": [
    "**Plotting Results**"
   ]
  },
  {
   "cell_type": "code",
   "execution_count": 99,
   "metadata": {},
   "outputs": [
    {
     "data": {
      "text/plain": [
       "<matplotlib.legend.Legend at 0x2cc89b29908>"
      ]
     },
     "execution_count": 99,
     "metadata": {},
     "output_type": "execute_result"
    },
    {
     "data": {
      "image/png": "[encoded data removed]",
      "text/plain": [
       "<Figure size 1440x576 with 1 Axes>"
      ]
     },
     "metadata": {
      "needs_background": "light"
     },
     "output_type": "display_data"
    }
   ],
   "source": [
    "'''Plotting train and test loss'''\n",
    "plt.figure(figsize=(20, 8))\n",
    "\n",
    "plt.title('LSTM Train & Test Loss')\n",
    "plt.plot(pd.Series(train_history).rolling(5).mean(), color='#000E43', label = 'Train Loss')\n",
    "plt.plot(pd.Series(test_history).rolling(5).mean(), color='#22906F', label = 'Test Loss')\n",
    "plt.xlabel('Iteration Steps')\n",
    "plt.ylabel('Loss')\n",
    "plt.legend()"
   ]
  },
  {
   "cell_type": "code",
   "execution_count": 92,
   "metadata": {},
   "outputs": [
    {
     "data": {
      "text/plain": [
       "<matplotlib.legend.Legend at 0x2cc891e9648>"
      ]
     },
     "execution_count": 92,
     "metadata": {},
     "output_type": "execute_result"
    },
    {
     "data": {
      "image/png": "[encoded data removed]",
      "text/plain": [
       "<Figure size 1440x576 with 1 Axes>"
      ]
     },
     "metadata": {
      "needs_background": "light"
     },
     "output_type": "display_data"
    }
   ],
   "source": [
    "'''Plotting train and test accuracy'''\n",
    "plt.figure(figsize=(20, 8))\n",
    "\n",
    "plt.title('LSTM Train & Test Accuracy')\n",
    "plt.plot(pd.Series(train_accuracy).rolling(5).mean(), color='#000E43', label = 'Train Accuracy')\n",
    "plt.plot(pd.Series(test_accuracy).rolling(5).mean(), color='#22906F', label = 'Test Accuracy')\n",
    "plt.xlim(10)\n",
    "plt.ylim(0.5, 1)\n",
    "plt.legend()"
   ]
  },
  {
   "cell_type": "markdown",
   "metadata": {},
   "source": [
    "<br>"
   ]
  },
  {
   "cell_type": "markdown",
   "metadata": {},
   "source": [
    "### **Evaluating with Examples**"
   ]
  },
  {
   "cell_type": "markdown",
   "metadata": {},
   "source": [
    "**Commentary Review Pipeline**"
   ]
  },
  {
   "cell_type": "code",
   "execution_count": 35,
   "metadata": {},
   "outputs": [],
   "source": [
    "def one_dim_pad(review: List[str], seq_length:int = 500) -> np.array:\n",
    "    length = len(review)\n",
    "    \n",
    "    if length <= seq_length:\n",
    "            padding    = list(np.zeros(seq_length-length))\n",
    "            new_review = padding + review\n",
    "             \n",
    "    elif length > seq_length:\n",
    "        new_review = review[0:seq_length]\n",
    "        \n",
    "    new_review = np.array(new_review)\n",
    "    \n",
    "    return new_review"
   ]
  },
  {
   "cell_type": "code",
   "execution_count": 40,
   "metadata": {},
   "outputs": [],
   "source": [
    "def one_dim_text_processing(review: str, word_dictionary: Dict[str, int]) -> np.array:\n",
    "    '''Cleans & Preprocesses a single string for the LSTM'''\n",
    "    review = review.lower()\n",
    "    review = ''.join([ch for ch in review if ch not in punctuation])\n",
    "    review = word_tokenize(review)\n",
    "    review = [word_dictionary[word] for word in review]\n",
    "    review = one_dim_pad(review, 500)\n",
    "    return torch.Tensor(review)"
   ]
  },
  {
   "cell_type": "markdown",
   "metadata": {},
   "source": [
    "<br>"
   ]
  },
  {
   "cell_type": "markdown",
   "metadata": {},
   "source": [
    "**Example Results**"
   ]
  },
  {
   "cell_type": "code",
   "execution_count": 101,
   "metadata": {},
   "outputs": [],
   "source": [
    "negative_test = '''The director did not know how a comedy must be done.\n",
    "                   There was no direction and the actors were terrible.\n",
    "                   I did not like it, it was an absolute disaster.'''"
   ]
  },
  {
   "cell_type": "code",
   "execution_count": 102,
   "metadata": {},
   "outputs": [],
   "source": [
    "positive_test  = '''This movie was amazing! I loved everything.\n",
    "                    I will definitely watch a movie from this director again!'''"
   ]
  },
  {
   "cell_type": "code",
   "execution_count": 103,
   "metadata": {},
   "outputs": [],
   "source": [
    "positive_review = text_processing(positive_test, word2int)\n",
    "positive_review = positive_review[None, :]"
   ]
  },
  {
   "cell_type": "code",
   "execution_count": 104,
   "metadata": {},
   "outputs": [],
   "source": [
    "negative_review = text_processing(negative_test, word2int)\n",
    "negative_review = negative_review[None, :]"
   ]
  },
  {
   "cell_type": "code",
   "execution_count": 105,
   "metadata": {},
   "outputs": [],
   "source": [
    "lstm.eval()\n",
    "hidden = lstm.init_hidden(1)\n",
    "pos, _ = lstm(positive_review.long(), hidden)\n",
    "hidden = lstm.init_hidden(1)\n",
    "neg, _ = lstm(negative_review.long(), hidden)"
   ]
  },
  {
   "cell_type": "code",
   "execution_count": 110,
   "metadata": {},
   "outputs": [
    {
     "name": "stdout",
     "output_type": "stream",
     "text": [
      "Positive Review Score: 0.996\n",
      "Negative Review Score: 0.001\n"
     ]
    }
   ],
   "source": [
    "print(f'Positive Review Score: {round(pos.item(), 3)}\\nNegative Review Score: {round(neg.item(), 3)}')"
   ]
  },
  {
   "cell_type": "markdown",
   "metadata": {},
   "source": [
    "<br>"
   ]
  },
  {
   "cell_type": "markdown",
   "metadata": {},
   "source": [
    "## **STEP 4: LDA Synthetic Data**"
   ]
  },
  {
   "cell_type": "markdown",
   "metadata": {},
   "source": [
    "**Importing Data**"
   ]
  },
  {
   "cell_type": "code",
   "execution_count": 5,
   "metadata": {},
   "outputs": [],
   "source": [
    "LDA_train = pd.read_csv(os.path.join(os.getcwd(), 'Data', 'synth_train.csv'))\n",
    "LDA_test  = pd.read_csv(os.path.join(os.getcwd(), 'Data', 'synth_test.csv'))"
   ]
  },
  {
   "cell_type": "markdown",
   "metadata": {},
   "source": [
    "**Text Preprocessing**"
   ]
  },
  {
   "cell_type": "code",
   "execution_count": 7,
   "metadata": {},
   "outputs": [],
   "source": [
    "LDA_train = text_preprocessing(LDA_train, text_column='text')\n",
    "LDA_test  = text_preprocessing(LDA_test,  text_column='text')"
   ]
  },
  {
   "cell_type": "markdown",
   "metadata": {},
   "source": [
    "**Vocabulary Dictionary Mapping**"
   ]
  },
  {
   "cell_type": "code",
   "execution_count": 8,
   "metadata": {},
   "outputs": [],
   "source": [
    "LDA_word2int, LDA_word4review = dictionary_mapping(LDA_train, LDA_test)"
   ]
  },
  {
   "cell_type": "markdown",
   "metadata": {},
   "source": [
    "**Encoding Reviews & Labels**"
   ]
  },
  {
   "cell_type": "code",
   "execution_count": 9,
   "metadata": {},
   "outputs": [],
   "source": [
    "LDA_encoded_review = [[LDA_word2int[word] for word in review] for review in LDA_word4review]"
   ]
  },
  {
   "cell_type": "code",
   "execution_count": 10,
   "metadata": {},
   "outputs": [],
   "source": [
    "LDA_X_train , LDA_X_test = LDA_encoded_review[:5000], LDA_encoded_review[5000:]"
   ]
  },
  {
   "cell_type": "code",
   "execution_count": 11,
   "metadata": {},
   "outputs": [],
   "source": [
    "LDA_y_train = [1 if label == 'pos' else 0 for label in LDA_train['label'].tolist()]\n",
    "LDA_y_test  = [1 if label == 'pos' else 0 for label in LDA_test['label'].tolist()]"
   ]
  },
  {
   "cell_type": "markdown",
   "metadata": {},
   "source": [
    "**Exploratory Data Analysis**"
   ]
  },
  {
   "cell_type": "code",
   "execution_count": 12,
   "metadata": {},
   "outputs": [],
   "source": [
    "import matplotlib.pyplot as plt"
   ]
  },
  {
   "cell_type": "code",
   "execution_count": 13,
   "metadata": {},
   "outputs": [],
   "source": [
    "lengths = [len(x) for x in LDA_encoded_review]"
   ]
  },
  {
   "cell_type": "code",
   "execution_count": 14,
   "metadata": {},
   "outputs": [
    {
     "data": {
      "image/png": "[encoded data removed]",
      "text/plain": [
       "<Figure size 432x288 with 1 Axes>"
      ]
     },
     "metadata": {
      "needs_background": "light"
     },
     "output_type": "display_data"
    }
   ],
   "source": [
    "#Think of a better plot\n",
    "pd.Series(lengths).hist()\n",
    "plt.show()"
   ]
  },
  {
   "cell_type": "code",
   "execution_count": 15,
   "metadata": {},
   "outputs": [
    {
     "data": {
      "text/plain": [
       "count    10000.000000\n",
       "mean     113.536200  \n",
       "std      11.579616   \n",
       "min      71.000000   \n",
       "25%      105.000000  \n",
       "50%      113.000000  \n",
       "75%      121.000000  \n",
       "max      161.000000  \n",
       "dtype: float64"
      ]
     },
     "execution_count": 15,
     "metadata": {},
     "output_type": "execute_result"
    }
   ],
   "source": [
    "pd.Series(lengths).describe()"
   ]
  },
  {
   "cell_type": "markdown",
   "metadata": {},
   "source": [
    "**Removing Outliers**"
   ]
  },
  {
   "cell_type": "code",
   "execution_count": 16,
   "metadata": {},
   "outputs": [],
   "source": [
    "outlier = 200\n",
    "#Remove outlier reviews: [10 words < review < 500 words]\n",
    "LDA_train_outliers = [True if len(x)<=outlier else False for x in LDA_X_train]\n",
    "LDA_test_outliers  = [True if len(x)<=outlier else False for x in LDA_X_test]"
   ]
  },
  {
   "cell_type": "code",
   "execution_count": 17,
   "metadata": {},
   "outputs": [],
   "source": [
    "#Train outlier removal\n",
    "LDA_X_train = [x for x, y in zip(LDA_X_train, LDA_train_outliers) if y == True]\n",
    "LDA_y_train = [x for x, y in zip(LDA_y_train, LDA_train_outliers) if y == True]\n",
    "\n",
    "#Test outlier removal\n",
    "LDA_X_test = [x for x, y in zip(LDA_X_test, LDA_test_outliers) if y == True]\n",
    "LDA_y_test = [x for x, y in zip(LDA_y_test, LDA_test_outliers) if y == True]"
   ]
  },
  {
   "cell_type": "markdown",
   "metadata": {},
   "source": [
    "**Padding**"
   ]
  },
  {
   "cell_type": "code",
   "execution_count": 18,
   "metadata": {},
   "outputs": [],
   "source": [
    "LDA_X_train = pad(LDA_X_train, outlier)\n",
    "LDA_X_test  = pad(LDA_X_test, outlier)"
   ]
  },
  {
   "cell_type": "markdown",
   "metadata": {},
   "source": [
    "**Dataloaders**"
   ]
  },
  {
   "cell_type": "code",
   "execution_count": 19,
   "metadata": {},
   "outputs": [],
   "source": [
    "LDA_data_train = torch.utils.data.TensorDataset(torch.from_numpy(LDA_X_train).long(), torch.from_numpy(np.array(LDA_y_train)).float())\n",
    "LDA_data_test  = torch.utils.data.TensorDataset(torch.from_numpy(LDA_X_test).long(), torch.from_numpy(np.array(LDA_y_test)).float())"
   ]
  },
  {
   "cell_type": "code",
   "execution_count": 20,
   "metadata": {},
   "outputs": [],
   "source": [
    "batch = 500\n",
    "LDA_train_loader = torch.utils.data.DataLoader(LDA_data_train, shuffle=True, batch_size=batch, drop_last=True)\n",
    "LDA_test_loader  = torch.utils.data.DataLoader(LDA_data_test, shuffle= True, batch_size=batch, drop_last=True)"
   ]
  },
  {
   "cell_type": "markdown",
   "metadata": {},
   "source": [
    "**Initializing Network**"
   ]
  },
  {
   "cell_type": "code",
   "execution_count": 30,
   "metadata": {},
   "outputs": [],
   "source": [
    "LDA_vocabulary = len(LDA_word2int) + 1"
   ]
  },
  {
   "cell_type": "code",
   "execution_count": 31,
   "metadata": {},
   "outputs": [],
   "source": [
    "lda_lstm = LSTM(LDA_vocabulary, n_output=1, n_embedding=30, n_hidden=64, n_layers=2)\n",
    "criterion = nn.BCELoss()\n",
    "optimizer = torch.optim.Adam(lda_lstm.parameters(), lr=0.001)"
   ]
  },
  {
   "cell_type": "markdown",
   "metadata": {},
   "source": [
    "<br>"
   ]
  },
  {
   "cell_type": "markdown",
   "metadata": {},
   "source": [
    "### Train"
   ]
  },
  {
   "cell_type": "code",
   "execution_count": 32,
   "metadata": {},
   "outputs": [
    {
     "name": "stdout",
     "output_type": "stream",
     "text": [
      "-----------------------------------------------------\n",
      "| Epoch: 1   | Train Loss: 0.672 | Test Loss: 0.631 |\n",
      "-----------------------------------------------------\n",
      "-----------------------------------------------------\n",
      "| Epoch: 2   | Train Loss: 0.501 | Test Loss: 0.244 |\n",
      "-----------------------------------------------------\n",
      "-----------------------------------------------------\n",
      "| Epoch: 3   | Train Loss: 0.120 | Test Loss: 0.051 |\n",
      "-----------------------------------------------------\n",
      "-----------------------------------------------------\n",
      "| Epoch: 4   | Train Loss: 0.041 | Test Loss: 0.029 |\n",
      "-----------------------------------------------------\n",
      "-----------------------------------------------------\n",
      "| Epoch: 5   | Train Loss: 0.018 | Test Loss: 0.013 |\n",
      "-----------------------------------------------------\n",
      "-----------------------------------------------------\n",
      "| Epoch: 6   | Train Loss: 0.011 | Test Loss: 0.009 |\n",
      "-----------------------------------------------------\n",
      "-----------------------------------------------------\n",
      "| Epoch: 7   | Train Loss: 0.008 | Test Loss: 0.007 |\n",
      "-----------------------------------------------------\n",
      "-----------------------------------------------------\n",
      "| Epoch: 8   | Train Loss: 0.006 | Test Loss: 0.005 |\n",
      "-----------------------------------------------------\n",
      "-----------------------------------------------------\n",
      "| Epoch: 9   | Train Loss: 0.005 | Test Loss: 0.004 |\n",
      "-----------------------------------------------------\n",
      "------------------------------------------------------\n",
      "| Epoch: 10   | Train Loss: 0.004 | Test Loss: 0.003 |\n",
      "------------------------------------------------------\n"
     ]
    }
   ],
   "source": [
    "epochs = 10\n",
    "lda_train_loss = 0\n",
    "lda_test_loss  = 0\n",
    "lda_train_history  = []\n",
    "lda_test_history   = []\n",
    "lda_train_accuracy = []\n",
    "lda_test_accuracy  = []\n",
    "    \n",
    "for epoch in range(epochs):\n",
    "        \n",
    "        lda_train_loss = 0\n",
    "        lda_test_loss  = 0\n",
    "        hidden = lda_lstm.init_hidden(batch)\n",
    "        \n",
    "        lda_lstm.train()\n",
    "        for _, data in enumerate(LDA_train_loader):\n",
    "            \n",
    "            optimizer.zero_grad()\n",
    "            \n",
    "            X_train, y_train = data\n",
    "            X_train, y_train = Variable(torch.squeeze(X_train)), Variable(torch.squeeze(y_train))\n",
    "            \n",
    "            #Forward pass\n",
    "            hidden = tuple([each.data for each in hidden])\n",
    "            y_hat, hidden = lda_lstm(X_train, hidden)\n",
    "            \n",
    "            #Calculating loss and backpropagating\n",
    "            loss  = criterion(y_hat, y_train)\n",
    "            loss.backward()\n",
    "            \n",
    "            #Clipping Gradients and taking a step\n",
    "            nn.utils.clip_grad_norm_(lda_lstm.parameters(), 5)\n",
    "            optimizer.step()\n",
    "            \n",
    "            #Storing loss results\n",
    "            lda_train_loss += loss.item() \n",
    "            lda_train_history.append(loss.item())\n",
    "            \n",
    "            #Calculating Accuracy\n",
    "            predictions = torch.round(y_hat.squeeze())\n",
    "            num_correct = predictions.eq(y_train.float().view_as(predictions))\n",
    "            correct     = np.squeeze(num_correct.numpy())\n",
    "            accuracy    = np.sum(correct)/batch\n",
    "            lda_train_accuracy.append(accuracy)\n",
    "            \n",
    "        hidden = lda_lstm.init_hidden(batch)\n",
    "        \n",
    "        #print('test')\n",
    "        lda_lstm.eval()\n",
    "        for _, data in enumerate(LDA_test_loader):\n",
    "            \n",
    "            X_test, y_test = data\n",
    "            X_test, y_test = torch.squeeze(X_test), torch.squeeze(y_test)\n",
    "            \n",
    "            hidden = tuple([each.data for each in hidden])\n",
    "            y_hat, hidden = lda_lstm(X_test, hidden)\n",
    "            \n",
    "            #Checking Loss\n",
    "            loss = criterion(y_hat, y_test)\n",
    "            lda_test_loss += loss.item()\n",
    "            lda_test_history.append(loss.item())\n",
    "            \n",
    "            #Calculating Accuracy\n",
    "            predictions = torch.round(y_hat.squeeze())\n",
    "            num_correct = predictions.eq(y_test.float().view_as(predictions))\n",
    "            correct     = np.squeeze(num_correct.numpy())\n",
    "            accuracy    = np.sum(correct)/batch\n",
    "            lda_test_accuracy.append(accuracy)\n",
    "            \n",
    "        \n",
    "        lda_train_loss = str(lda_train_loss*batch/len(LDA_train_loader.dataset))[:5]\n",
    "        lda_test_loss  = str(lda_test_loss*batch/len(LDA_test_loader.dataset))[:5]\n",
    "        \n",
    "        \n",
    "        string = f'''| Epoch: {epoch + 1}   | Train Loss: {lda_train_loss} | Test Loss: {str(lda_test_loss)} |'''\n",
    "        print('-'*len(string)); print(string); print('-'*len(string))"
   ]
  },
  {
   "cell_type": "code",
   "execution_count": 33,
   "metadata": {},
   "outputs": [],
   "source": [
    "PATH = os.path.join(os.getcwd(), 'Models', 'LDA_Sentiment_LSTM')\n",
    "torch.save(lda_lstm, PATH)"
   ]
  },
  {
   "cell_type": "markdown",
   "metadata": {},
   "source": [
    "<br>"
   ]
  },
  {
   "cell_type": "markdown",
   "metadata": {},
   "source": [
    "**Plotting Results**"
   ]
  },
  {
   "cell_type": "code",
   "execution_count": 34,
   "metadata": {},
   "outputs": [
    {
     "data": {
      "text/plain": [
       "<matplotlib.legend.Legend at 0x1f28428fe48>"
      ]
     },
     "execution_count": 34,
     "metadata": {},
     "output_type": "execute_result"
    },
    {
     "data": {
      "image/png": "[encoded data removed]",
      "text/plain": [
       "<Figure size 1440x576 with 1 Axes>"
      ]
     },
     "metadata": {
      "needs_background": "light"
     },
     "output_type": "display_data"
    }
   ],
   "source": [
    "'''Plotting train and test loss'''\n",
    "plt.figure(figsize=(20, 8))\n",
    "\n",
    "plt.title('LSTM Train & Test Loss')\n",
    "plt.plot(pd.Series(lda_train_history).rolling(5).mean(), color='#000E43', label = 'Train Loss')\n",
    "plt.plot(pd.Series(lda_test_history).rolling(5).mean(), color='#22906F', label = 'Test Loss')\n",
    "plt.xlabel('Iteration Steps')\n",
    "plt.ylabel('Loss')\n",
    "plt.legend()"
   ]
  },
  {
   "cell_type": "code",
   "execution_count": 37,
   "metadata": {},
   "outputs": [
    {
     "data": {
      "text/plain": [
       "<matplotlib.legend.Legend at 0x1f28393dbc8>"
      ]
     },
     "execution_count": 37,
     "metadata": {},
     "output_type": "execute_result"
    },
    {
     "data": {
      "image/png": "[encoded data removed]",
      "text/plain": [
       "<Figure size 1440x576 with 1 Axes>"
      ]
     },
     "metadata": {
      "needs_background": "light"
     },
     "output_type": "display_data"
    }
   ],
   "source": [
    "'''Plotting train and test accuracy'''\n",
    "plt.figure(figsize=(20, 8))\n",
    "\n",
    "plt.title('LSTM Train & Test Accuracy')\n",
    "plt.plot(pd.Series(lda_train_accuracy).rolling(5).mean(), color='#000E43', label = 'Train Accuracy')\n",
    "plt.plot(pd.Series(lda_test_accuracy).rolling(5).mean(), color='#22906F', label = 'Test Accuracy')\n",
    "plt.xlim(10)\n",
    "plt.ylim(0.5, 1)\n",
    "plt.legend()"
   ]
  }
 ],
 "metadata": {
  "kernelspec": {
   "display_name": "Python 3",
   "language": "python",
   "name": "python3"
  },
  "language_info": {
   "codemirror_mode": {
    "name": "ipython",
    "version": 3
   },
   "file_extension": ".py",
   "mimetype": "text/x-python",
   "name": "python",
   "nbconvert_exporter": "python",
   "pygments_lexer": "ipython3",
   "version": "3.7.4"
  }
 },
 "nbformat": 4,
 "nbformat_minor": 2
}
