{
 "cells": [
  {
   "cell_type": "code",
   "execution_count": 2,
   "metadata": {},
   "outputs": [],
   "source": [
    "import re"
   ]
  },
  {
   "cell_type": "markdown",
   "metadata": {},
   "source": [
    "# Exercise 1"
   ]
  },
  {
   "cell_type": "code",
   "execution_count": 3,
   "metadata": {},
   "outputs": [],
   "source": [
    "inventor_pattern = re.compile('^(?!.*(Company|Co\\.|Corporation|Snowy))(([A-ZÀ-Ö][a-zà-ÿ]+|[A-Z]\\.|[A-Z][a-z]+\\-[A-Z][a-z]+|de|von|\\(.*\\))\\s?|\\,\\sSr\\.){2,5}$')"
   ]
  },
  {
   "cell_type": "code",
   "execution_count": 4,
   "metadata": {},
   "outputs": [
    {
     "data": {
      "text/plain": [
       "True"
      ]
     },
     "execution_count": 4,
     "metadata": {},
     "output_type": "execute_result"
    }
   ],
   "source": [
    "bool(re.match(inventor_pattern, 'Guillem Amat Castello'))"
   ]
  },
  {
   "cell_type": "code",
   "execution_count": 5,
   "metadata": {},
   "outputs": [
    {
     "data": {
      "text/plain": [
       "False"
      ]
     },
     "execution_count": 5,
     "metadata": {},
     "output_type": "execute_result"
    }
   ],
   "source": [
    "bool(re.match(inventor_pattern, 'Solved this NLP exercise successfully'))"
   ]
  },
  {
   "cell_type": "code",
   "execution_count": 6,
   "metadata": {},
   "outputs": [
    {
     "data": {
      "text/plain": [
       "False"
      ]
     },
     "execution_count": 6,
     "metadata": {},
     "output_type": "execute_result"
    }
   ],
   "source": [
    "bool(re.match(inventor_pattern, 'Worked at Pacific Investment Mgmt Company'))"
   ]
  },
  {
   "cell_type": "markdown",
   "metadata": {},
   "source": [
    "# Exercise 2"
   ]
  },
  {
   "cell_type": "code",
   "execution_count": 13,
   "metadata": {},
   "outputs": [],
   "source": [
    "macbeth_pattern = re.compile(r'''(?<=\\n{2}LADY MACBETH\\.\\n)(?!LADY MACDUFF\\.)(.*|\\n)+(?=(?:\\n{2}[A-Z]{2,}|\\n{2}\\s\\[\\_.*_\\]\\n{2}[A-Z]{2,}|\\n{2}\\s.*\\n{2}[A-Z]{2,}))''')"
   ]
  },
  {
   "cell_type": "code",
   "execution_count": 4,
   "metadata": {},
   "outputs": [],
   "source": [
    "with open(r'C:\\Users\\guill\\Desktop\\hw_regex\\tests\\data\\macbeth.txt', 'r', encoding='utf-8') as f:\n",
    "    macbeth = f.read()"
   ]
  },
  {
   "cell_type": "code",
   "execution_count": 14,
   "metadata": {},
   "outputs": [],
   "source": [
    "matches = [\n",
    "        match[0].strip() for match in\n",
    "        re.finditer(macbeth_pattern, macbeth)\n",
    "    ]"
   ]
  },
  {
   "cell_type": "code",
   "execution_count": 15,
   "metadata": {},
   "outputs": [],
   "source": [
    "assert(len(matches)==59)"
   ]
  },
  {
   "cell_type": "code",
   "execution_count": 16,
   "metadata": {},
   "outputs": [
    {
     "data": {
      "text/plain": [
       "['“They met me in the day of success; and I have learned by the\\nperfect’st report they have more in them than mortal knowledge. When I\\nburned in desire to question them further, they made themselves air,\\ninto which they vanished. Whiles I stood rapt in the wonder of it, came\\nmissives from the King, who all-hailed me, ‘Thane of Cawdor’; by which\\ntitle, before, these Weird Sisters saluted me, and referred me to the\\ncoming on of time, with ‘Hail, king that shalt be!’ This have I thought\\ngood to deliver thee (my dearest partner of greatness) that thou\\nmight’st not lose the dues of rejoicing, by being ignorant of what\\ngreatness is promis’d thee. Lay it to thy heart, and farewell.”\\n\\nGlamis thou art, and Cawdor; and shalt be\\nWhat thou art promis’d. Yet do I fear thy nature;\\nIt is too full o’ th’ milk of human kindness\\nTo catch the nearest way. Thou wouldst be great;\\nArt not without ambition, but without\\nThe illness should attend it. What thou wouldst highly,\\nThat wouldst thou holily; wouldst not play false,\\nAnd yet wouldst wrongly win. Thou’dst have, great Glamis,\\nThat which cries, “Thus thou must do,” if thou have it;\\nAnd that which rather thou dost fear to do,\\nThan wishest should be undone. Hie thee hither,\\nThat I may pour my spirits in thine ear,\\nAnd chastise with the valour of my tongue\\nAll that impedes thee from the golden round,\\nWhich fate and metaphysical aid doth seem\\nTo have thee crown’d withal.\\n\\n Enter a Messenger.\\n\\nWhat is your tidings?',\n",
       " 'Thou’rt mad to say it.\\nIs not thy master with him? who, were’t so,\\nWould have inform’d for preparation.',\n",
       " 'Give him tending.\\nHe brings great news.\\n\\n [_Exit Messenger._]\\n\\nThe raven himself is hoarse\\nThat croaks the fatal entrance of Duncan\\nUnder my battlements. Come, you spirits\\nThat tend on mortal thoughts, unsex me here,\\nAnd fill me, from the crown to the toe, top-full\\nOf direst cruelty! make thick my blood,\\nStop up th’ access and passage to remorse,\\nThat no compunctious visitings of nature\\nShake my fell purpose, nor keep peace between\\nTh’ effect and it! Come to my woman’s breasts,\\nAnd take my milk for gall, your murd’ring ministers,\\nWherever in your sightless substances\\nYou wait on nature’s mischief! Come, thick night,\\nAnd pall thee in the dunnest smoke of hell\\nThat my keen knife see not the wound it makes,\\nNor heaven peep through the blanket of the dark\\nTo cry, “Hold, hold!”\\n\\n Enter Macbeth.\\n\\nGreat Glamis, worthy Cawdor!\\nGreater than both, by the all-hail hereafter!\\nThy letters have transported me beyond\\nThis ignorant present, and I feel now\\nThe future in the instant.',\n",
       " 'And when goes hence?',\n",
       " 'O, never\\nShall sun that morrow see!\\nYour face, my thane, is as a book where men\\nMay read strange matters. To beguile the time,\\nLook like the time; bear welcome in your eye,\\nYour hand, your tongue: look like the innocent flower,\\nBut be the serpent under’t. He that’s coming\\nMust be provided for; and you shall put\\nThis night’s great business into my dispatch;\\nWhich shall to all our nights and days to come\\nGive solely sovereign sway and masterdom.',\n",
       " 'Only look up clear;\\nTo alter favour ever is to fear.\\nLeave all the rest to me.',\n",
       " 'All our service,\\nIn every point twice done, and then done double,\\nWere poor and single business to contend\\nAgainst those honours deep and broad wherewith\\nYour Majesty loads our house: for those of old,\\nAnd the late dignities heap’d up to them,\\nWe rest your hermits.',\n",
       " 'Your servants ever\\nHave theirs, themselves, and what is theirs, in compt,\\nTo make their audit at your Highness’ pleasure,\\nStill to return your own.',\n",
       " 'He has almost supp’d. Why have you left the chamber?',\n",
       " 'Know you not he has?',\n",
       " 'Was the hope drunk\\nWherein you dress’d yourself? Hath it slept since?\\nAnd wakes it now, to look so green and pale\\nAt what it did so freely? From this time\\nSuch I account thy love. Art thou afeard\\nTo be the same in thine own act and valour\\nAs thou art in desire? Wouldst thou have that\\nWhich thou esteem’st the ornament of life,\\nAnd live a coward in thine own esteem,\\nLetting “I dare not” wait upon “I would,”\\nLike the poor cat i’ th’ adage?',\n",
       " 'What beast was’t, then,\\nThat made you break this enterprise to me?\\nWhen you durst do it, then you were a man;\\nAnd, to be more than what you were, you would\\nBe so much more the man. Nor time nor place\\nDid then adhere, and yet you would make both:\\nThey have made themselves, and that their fitness now\\nDoes unmake you. I have given suck, and know\\nHow tender ’tis to love the babe that milks me:\\nI would, while it was smiling in my face,\\nHave pluck’d my nipple from his boneless gums\\nAnd dash’d the brains out, had I so sworn as you\\nHave done to this.',\n",
       " 'We fail?\\nBut screw your courage to the sticking-place,\\nAnd we’ll not fail. When Duncan is asleep\\n(Whereto the rather shall his day’s hard journey\\nSoundly invite him), his two chamberlains\\nWill I with wine and wassail so convince\\nThat memory, the warder of the brain,\\nShall be a fume, and the receipt of reason\\nA limbeck only: when in swinish sleep\\nTheir drenched natures lie as in a death,\\nWhat cannot you and I perform upon\\nTh’ unguarded Duncan? what not put upon\\nHis spongy officers; who shall bear the guilt\\nOf our great quell?',\n",
       " 'Who dares receive it other,\\nAs we shall make our griefs and clamour roar\\nUpon his death?',\n",
       " 'That which hath made them drunk hath made me bold:\\nWhat hath quench’d them hath given me fire.—Hark!—Peace!\\nIt was the owl that shriek’d, the fatal bellman,\\nWhich gives the stern’st good night. He is about it.\\nThe doors are open; and the surfeited grooms\\nDo mock their charge with snores: I have drugg’d their possets,\\nThat death and nature do contend about them,\\nWhether they live or die.',\n",
       " 'Alack! I am afraid they have awak’d,\\nAnd ’tis not done. Th’ attempt and not the deed\\nConfounds us.—Hark!—I laid their daggers ready;\\nHe could not miss ’em.—Had he not resembled\\nMy father as he slept, I had done’t.—My husband!',\n",
       " 'I heard the owl scream and the crickets cry.\\nDid not you speak?',\n",
       " 'Now.',\n",
       " 'Ay.',\n",
       " 'Donalbain.',\n",
       " 'A foolish thought, to say a sorry sight.',\n",
       " 'There are two lodg’d together.',\n",
       " 'Consider it not so deeply.',\n",
       " 'These deeds must not be thought\\nAfter these ways; so, it will make us mad.',\n",
       " 'What do you mean?',\n",
       " 'Who was it that thus cried? Why, worthy thane,\\nYou do unbend your noble strength to think\\nSo brainsickly of things. Go get some water,\\nAnd wash this filthy witness from your hand.—\\nWhy did you bring these daggers from the place?\\nThey must lie there: go carry them, and smear\\nThe sleepy grooms with blood.',\n",
       " 'Infirm of purpose!\\nGive me the daggers. The sleeping and the dead\\nAre but as pictures. ’Tis the eye of childhood\\nThat fears a painted devil. If he do bleed,\\nI’ll gild the faces of the grooms withal,\\nFor it must seem their guilt.',\n",
       " 'My hands are of your color, but I shame\\nTo wear a heart so white. [_Knocking within._] I hear knocking\\nAt the south entry:—retire we to our chamber.\\nA little water clears us of this deed:\\nHow easy is it then! Your constancy\\nHath left you unattended.—[_Knocking within._] Hark, more knocking.\\nGet on your nightgown, lest occasion call us\\nAnd show us to be watchers. Be not lost\\nSo poorly in your thoughts.',\n",
       " 'What’s the business,\\nThat such a hideous trumpet calls to parley\\nThe sleepers of the house? Speak, speak!',\n",
       " 'Woe, alas!\\nWhat, in our house?',\n",
       " 'Help me hence, ho!',\n",
       " 'If he had been forgotten,\\nIt had been as a gap in our great feast,\\nAnd all-thing unbecoming.',\n",
       " 'Is Banquo gone from court?',\n",
       " 'Say to the King, I would attend his leisure\\nFor a few words.',\n",
       " 'Naught’s had, all’s spent,\\nWhere our desire is got without content:\\n’Tis safer to be that which we destroy,\\nThan by destruction dwell in doubtful joy.\\n\\n Enter Macbeth.\\n\\nHow now, my lord, why do you keep alone,\\nOf sorriest fancies your companions making,\\nUsing those thoughts which should indeed have died\\nWith them they think on? Things without all remedy\\nShould be without regard: what’s done is done.',\n",
       " 'Come on,\\nGently my lord, sleek o’er your rugged looks;\\nBe bright and jovial among your guests tonight.',\n",
       " 'You must leave this.',\n",
       " 'But in them nature’s copy’s not eterne.',\n",
       " 'What’s to be done?',\n",
       " 'Pronounce it for me, sir, to all our friends;\\nFor my heart speaks they are welcome.',\n",
       " 'My royal lord,\\nYou do not give the cheer: the feast is sold\\nThat is not often vouch’d, while ’tis a-making,\\n’Tis given with welcome. To feed were best at home;\\nFrom thence the sauce to meat is ceremony;\\nMeeting were bare without it.',\n",
       " 'Sit, worthy friends. My lord is often thus,\\nAnd hath been from his youth: pray you, keep seat;\\nThe fit is momentary; upon a thought\\nHe will again be well. If much you note him,\\nYou shall offend him, and extend his passion.\\nFeed, and regard him not.—Are you a man?',\n",
       " 'O proper stuff!\\nThis is the very painting of your fear:\\nThis is the air-drawn dagger which you said,\\nLed you to Duncan. O, these flaws, and starts\\n(Impostors to true fear), would well become\\nA woman’s story at a winter’s fire,\\nAuthoris’d by her grandam. Shame itself!\\nWhy do you make such faces? When all’s done,\\nYou look but on a stool.',\n",
       " 'What, quite unmann’d in folly?',\n",
       " 'Fie, for shame!',\n",
       " 'My worthy lord,\\nYour noble friends do lack you.',\n",
       " 'Think of this, good peers,\\nBut as a thing of custom: ’tis no other,\\nOnly it spoils the pleasure of the time.',\n",
       " 'You have displaced the mirth, broke the good meeting\\nWith most admir’d disorder.',\n",
       " 'I pray you, speak not; he grows worse and worse;\\nQuestion enrages him. At once, good night:—\\nStand not upon the order of your going,\\nBut go at once.',\n",
       " 'A kind good night to all!',\n",
       " 'Almost at odds with morning, which is which.',\n",
       " 'Did you send to him, sir?',\n",
       " 'You lack the season of all natures, sleep.',\n",
       " 'Yet here’s a spot.',\n",
       " 'Out, damned spot! out, I say! One; two. Why, then ’tis time to do’t.\\nHell is murky! Fie, my lord, fie! a soldier, and afeard? What need we\\nfear who knows it, when none can call our power to account? Yet who\\nwould have thought the old man to have had so much blood in him?',\n",
       " 'The Thane of Fife had a wife. Where is she now?—What, will these hands\\nne’er be clean? No more o’ that, my lord, no more o’ that: you mar all\\nwith this starting.',\n",
       " 'Here’s the smell of the blood still: all the perfumes of Arabia will\\nnot sweeten this little hand. Oh, oh, oh!',\n",
       " 'Wash your hands, put on your nightgown; look not so pale. I tell you\\nyet again, Banquo’s buried; he cannot come out on’s grave.',\n",
       " 'To bed, to bed. There’s knocking at the gate. Come, come, come, come,\\ngive me your hand. What’s done cannot be undone. To bed, to bed, to\\nbed.']"
      ]
     },
     "execution_count": 16,
     "metadata": {},
     "output_type": "execute_result"
    }
   ],
   "source": [
    "matches"
   ]
  },
  {
   "cell_type": "markdown",
   "metadata": {},
   "source": [
    "# Exercise 3"
   ]
  },
  {
   "cell_type": "code",
   "execution_count": 1,
   "metadata": {},
   "outputs": [],
   "source": [
    "import re"
   ]
  },
  {
   "cell_type": "code",
   "execution_count": 150,
   "metadata": {},
   "outputs": [],
   "source": [
    "regex_pattern = re.compile(r'(?!\\(\\?(?:\\<\\!|\\!|\\<\\=|\\=|\\<\\!|\\:).+\\))\\((?:\\?P\\<\\w+\\>)?(.+?)\\)')"
   ]
  },
  {
   "cell_type": "code",
   "execution_count": 151,
   "metadata": {},
   "outputs": [],
   "source": [
    "test_list = ['Mistake', '(Correct)', '(?P<name>Correct)', '(?:Mistake)@(?!Mistake)@(?=Mistake)', \n",
    "             '(?<=Mistake)@(?<!Mistake)', '(?P<placeholder>Correct)', '([Correct])',\n",
    "             '(Correct)Mistake(?P<placeholder>Correct)', '(Correct)Mistake(?!Mistake)','(?:?!Mistake)']"
   ]
  },
  {
   "cell_type": "code",
   "execution_count": 152,
   "metadata": {},
   "outputs": [
    {
     "data": {
      "text/plain": [
       "[[],\n",
       " ['Correct'],\n",
       " ['Correct'],\n",
       " [],\n",
       " [],\n",
       " ['Correct'],\n",
       " ['[Correct]'],\n",
       " ['Correct', 'Correct'],\n",
       " ['Correct'],\n",
       " []]"
      ]
     },
     "execution_count": 152,
     "metadata": {},
     "output_type": "execute_result"
    }
   ],
   "source": [
    "[re.findall(regex_pattern, x) for x in test_list]"
   ]
  }
 ],
 "metadata": {
  "kernelspec": {
   "display_name": "Python 3",
   "language": "python",
   "name": "python3"
  },
  "language_info": {
   "codemirror_mode": {
    "name": "ipython",
    "version": 3
   },
   "file_extension": ".py",
   "mimetype": "text/x-python",
   "name": "python",
   "nbconvert_exporter": "python",
   "pygments_lexer": "ipython3",
   "version": "3.7.6"
  }
 },
 "nbformat": 4,
 "nbformat_minor": 4
}
